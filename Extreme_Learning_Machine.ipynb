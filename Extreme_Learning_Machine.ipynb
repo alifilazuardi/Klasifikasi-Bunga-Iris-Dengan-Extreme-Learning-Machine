{
  "nbformat": 4,
  "nbformat_minor": 0,
  "metadata": {
    "colab": {
      "provenance": []
    },
    "kernelspec": {
      "name": "python3",
      "display_name": "Python 3"
    }
  },
  "cells": [
    {
      "cell_type": "code",
      "source": [
        "import pandas as pd\n",
        "import numpy as np\n",
        "import seaborn as sns\n",
        "import time\n",
        "import math\n",
        "from sklearn.preprocessing import MinMaxScaler\n",
        "from sklearn.model_selection import train_test_split\n",
        "from sklearn.metrics import accuracy_score, mean_squared_error\n",
        "import matplotlib.pyplot as plt"
      ],
      "metadata": {
        "id": "sPy42eiVb-Em"
      },
      "execution_count": null,
      "outputs": []
    },
    {
      "cell_type": "code",
      "source": [
        "url = 'https://archive.ics.uci.edu/ml/machine-learning-databases/iris/'\n",
        "data_url = url + 'iris.data'\n",
        "col = ['Sepal length', 'Sepal width', 'Petal length', 'Petal width', 'Species']\n",
        "\n",
        "data = pd.read_csv(data_url)\n",
        "data.columns = col\n",
        "data.head()"
      ],
      "metadata": {
        "colab": {
          "base_uri": "https://localhost:8080/",
          "height": 206
        },
        "id": "TfkGIbi6bfYA",
        "outputId": "213ce20e-c661-47ab-cc61-c4bee8ac8078"
      },
      "execution_count": null,
      "outputs": [
        {
          "output_type": "execute_result",
          "data": {
            "text/plain": [
              "   Sepal length  Sepal width  Petal length  Petal width      Species\n",
              "0           4.9          3.0           1.4          0.2  Iris-setosa\n",
              "1           4.7          3.2           1.3          0.2  Iris-setosa\n",
              "2           4.6          3.1           1.5          0.2  Iris-setosa\n",
              "3           5.0          3.6           1.4          0.2  Iris-setosa\n",
              "4           5.4          3.9           1.7          0.4  Iris-setosa"
            ],
            "text/html": [
              "\n",
              "  <div id=\"df-fbb4d185-2bb9-45e5-b830-af76da252b1b\">\n",
              "    <div class=\"colab-df-container\">\n",
              "      <div>\n",
              "<style scoped>\n",
              "    .dataframe tbody tr th:only-of-type {\n",
              "        vertical-align: middle;\n",
              "    }\n",
              "\n",
              "    .dataframe tbody tr th {\n",
              "        vertical-align: top;\n",
              "    }\n",
              "\n",
              "    .dataframe thead th {\n",
              "        text-align: right;\n",
              "    }\n",
              "</style>\n",
              "<table border=\"1\" class=\"dataframe\">\n",
              "  <thead>\n",
              "    <tr style=\"text-align: right;\">\n",
              "      <th></th>\n",
              "      <th>Sepal length</th>\n",
              "      <th>Sepal width</th>\n",
              "      <th>Petal length</th>\n",
              "      <th>Petal width</th>\n",
              "      <th>Species</th>\n",
              "    </tr>\n",
              "  </thead>\n",
              "  <tbody>\n",
              "    <tr>\n",
              "      <th>0</th>\n",
              "      <td>4.9</td>\n",
              "      <td>3.0</td>\n",
              "      <td>1.4</td>\n",
              "      <td>0.2</td>\n",
              "      <td>Iris-setosa</td>\n",
              "    </tr>\n",
              "    <tr>\n",
              "      <th>1</th>\n",
              "      <td>4.7</td>\n",
              "      <td>3.2</td>\n",
              "      <td>1.3</td>\n",
              "      <td>0.2</td>\n",
              "      <td>Iris-setosa</td>\n",
              "    </tr>\n",
              "    <tr>\n",
              "      <th>2</th>\n",
              "      <td>4.6</td>\n",
              "      <td>3.1</td>\n",
              "      <td>1.5</td>\n",
              "      <td>0.2</td>\n",
              "      <td>Iris-setosa</td>\n",
              "    </tr>\n",
              "    <tr>\n",
              "      <th>3</th>\n",
              "      <td>5.0</td>\n",
              "      <td>3.6</td>\n",
              "      <td>1.4</td>\n",
              "      <td>0.2</td>\n",
              "      <td>Iris-setosa</td>\n",
              "    </tr>\n",
              "    <tr>\n",
              "      <th>4</th>\n",
              "      <td>5.4</td>\n",
              "      <td>3.9</td>\n",
              "      <td>1.7</td>\n",
              "      <td>0.4</td>\n",
              "      <td>Iris-setosa</td>\n",
              "    </tr>\n",
              "  </tbody>\n",
              "</table>\n",
              "</div>\n",
              "      <button class=\"colab-df-convert\" onclick=\"convertToInteractive('df-fbb4d185-2bb9-45e5-b830-af76da252b1b')\"\n",
              "              title=\"Convert this dataframe to an interactive table.\"\n",
              "              style=\"display:none;\">\n",
              "        \n",
              "  <svg xmlns=\"http://www.w3.org/2000/svg\" height=\"24px\"viewBox=\"0 0 24 24\"\n",
              "       width=\"24px\">\n",
              "    <path d=\"M0 0h24v24H0V0z\" fill=\"none\"/>\n",
              "    <path d=\"M18.56 5.44l.94 2.06.94-2.06 2.06-.94-2.06-.94-.94-2.06-.94 2.06-2.06.94zm-11 1L8.5 8.5l.94-2.06 2.06-.94-2.06-.94L8.5 2.5l-.94 2.06-2.06.94zm10 10l.94 2.06.94-2.06 2.06-.94-2.06-.94-.94-2.06-.94 2.06-2.06.94z\"/><path d=\"M17.41 7.96l-1.37-1.37c-.4-.4-.92-.59-1.43-.59-.52 0-1.04.2-1.43.59L10.3 9.45l-7.72 7.72c-.78.78-.78 2.05 0 2.83L4 21.41c.39.39.9.59 1.41.59.51 0 1.02-.2 1.41-.59l7.78-7.78 2.81-2.81c.8-.78.8-2.07 0-2.86zM5.41 20L4 18.59l7.72-7.72 1.47 1.35L5.41 20z\"/>\n",
              "  </svg>\n",
              "      </button>\n",
              "      \n",
              "  <style>\n",
              "    .colab-df-container {\n",
              "      display:flex;\n",
              "      flex-wrap:wrap;\n",
              "      gap: 12px;\n",
              "    }\n",
              "\n",
              "    .colab-df-convert {\n",
              "      background-color: #E8F0FE;\n",
              "      border: none;\n",
              "      border-radius: 50%;\n",
              "      cursor: pointer;\n",
              "      display: none;\n",
              "      fill: #1967D2;\n",
              "      height: 32px;\n",
              "      padding: 0 0 0 0;\n",
              "      width: 32px;\n",
              "    }\n",
              "\n",
              "    .colab-df-convert:hover {\n",
              "      background-color: #E2EBFA;\n",
              "      box-shadow: 0px 1px 2px rgba(60, 64, 67, 0.3), 0px 1px 3px 1px rgba(60, 64, 67, 0.15);\n",
              "      fill: #174EA6;\n",
              "    }\n",
              "\n",
              "    [theme=dark] .colab-df-convert {\n",
              "      background-color: #3B4455;\n",
              "      fill: #D2E3FC;\n",
              "    }\n",
              "\n",
              "    [theme=dark] .colab-df-convert:hover {\n",
              "      background-color: #434B5C;\n",
              "      box-shadow: 0px 1px 3px 1px rgba(0, 0, 0, 0.15);\n",
              "      filter: drop-shadow(0px 1px 2px rgba(0, 0, 0, 0.3));\n",
              "      fill: #FFFFFF;\n",
              "    }\n",
              "  </style>\n",
              "\n",
              "      <script>\n",
              "        const buttonEl =\n",
              "          document.querySelector('#df-fbb4d185-2bb9-45e5-b830-af76da252b1b button.colab-df-convert');\n",
              "        buttonEl.style.display =\n",
              "          google.colab.kernel.accessAllowed ? 'block' : 'none';\n",
              "\n",
              "        async function convertToInteractive(key) {\n",
              "          const element = document.querySelector('#df-fbb4d185-2bb9-45e5-b830-af76da252b1b');\n",
              "          const dataTable =\n",
              "            await google.colab.kernel.invokeFunction('convertToInteractive',\n",
              "                                                     [key], {});\n",
              "          if (!dataTable) return;\n",
              "\n",
              "          const docLinkHtml = 'Like what you see? Visit the ' +\n",
              "            '<a target=\"_blank\" href=https://colab.research.google.com/notebooks/data_table.ipynb>data table notebook</a>'\n",
              "            + ' to learn more about interactive tables.';\n",
              "          element.innerHTML = '';\n",
              "          dataTable['output_type'] = 'display_data';\n",
              "          await google.colab.output.renderOutput(dataTable, element);\n",
              "          const docLink = document.createElement('div');\n",
              "          docLink.innerHTML = docLinkHtml;\n",
              "          element.appendChild(docLink);\n",
              "        }\n",
              "      </script>\n",
              "    </div>\n",
              "  </div>\n",
              "  "
            ]
          },
          "metadata": {},
          "execution_count": 2
        }
      ]
    },
    {
      "cell_type": "markdown",
      "source": [
        "# Exploratory data"
      ],
      "metadata": {
        "id": "WAeBXqAsLZNY"
      }
    },
    {
      "cell_type": "code",
      "source": [
        "data.isna().sum()"
      ],
      "metadata": {
        "colab": {
          "base_uri": "https://localhost:8080/"
        },
        "id": "cSlEC02rdNN8",
        "outputId": "d3dd3cef-004a-494b-e39e-208a8b1044f6"
      },
      "execution_count": null,
      "outputs": [
        {
          "output_type": "execute_result",
          "data": {
            "text/plain": [
              "Sepal length    0\n",
              "Sepal width     0\n",
              "Petal length    0\n",
              "Petal width     0\n",
              "Species         0\n",
              "dtype: int64"
            ]
          },
          "metadata": {},
          "execution_count": 3
        }
      ]
    },
    {
      "cell_type": "code",
      "source": [
        "data.duplicated().sum()"
      ],
      "metadata": {
        "colab": {
          "base_uri": "https://localhost:8080/"
        },
        "id": "3Q3Og2z7dSXm",
        "outputId": "ac532ed1-b8fa-4ee8-9239-61414e18ddc1"
      },
      "execution_count": null,
      "outputs": [
        {
          "output_type": "execute_result",
          "data": {
            "text/plain": [
              "3"
            ]
          },
          "metadata": {},
          "execution_count": 4
        }
      ]
    },
    {
      "cell_type": "code",
      "source": [
        "duplicated = data[data.duplicated()]\n",
        "duplicated"
      ],
      "metadata": {
        "colab": {
          "base_uri": "https://localhost:8080/",
          "height": 143
        },
        "id": "NVPdfQpTMgBz",
        "outputId": "ad4d2f92-d14e-4bc5-f4ff-df3d9ad9d30a"
      },
      "execution_count": null,
      "outputs": [
        {
          "output_type": "execute_result",
          "data": {
            "text/plain": [
              "     Sepal length  Sepal width  Petal length  Petal width         Species\n",
              "33            4.9          3.1           1.5          0.1     Iris-setosa\n",
              "36            4.9          3.1           1.5          0.1     Iris-setosa\n",
              "141           5.8          2.7           5.1          1.9  Iris-virginica"
            ],
            "text/html": [
              "\n",
              "  <div id=\"df-4db28d9e-84fc-4192-b780-714be88c8751\">\n",
              "    <div class=\"colab-df-container\">\n",
              "      <div>\n",
              "<style scoped>\n",
              "    .dataframe tbody tr th:only-of-type {\n",
              "        vertical-align: middle;\n",
              "    }\n",
              "\n",
              "    .dataframe tbody tr th {\n",
              "        vertical-align: top;\n",
              "    }\n",
              "\n",
              "    .dataframe thead th {\n",
              "        text-align: right;\n",
              "    }\n",
              "</style>\n",
              "<table border=\"1\" class=\"dataframe\">\n",
              "  <thead>\n",
              "    <tr style=\"text-align: right;\">\n",
              "      <th></th>\n",
              "      <th>Sepal length</th>\n",
              "      <th>Sepal width</th>\n",
              "      <th>Petal length</th>\n",
              "      <th>Petal width</th>\n",
              "      <th>Species</th>\n",
              "    </tr>\n",
              "  </thead>\n",
              "  <tbody>\n",
              "    <tr>\n",
              "      <th>33</th>\n",
              "      <td>4.9</td>\n",
              "      <td>3.1</td>\n",
              "      <td>1.5</td>\n",
              "      <td>0.1</td>\n",
              "      <td>Iris-setosa</td>\n",
              "    </tr>\n",
              "    <tr>\n",
              "      <th>36</th>\n",
              "      <td>4.9</td>\n",
              "      <td>3.1</td>\n",
              "      <td>1.5</td>\n",
              "      <td>0.1</td>\n",
              "      <td>Iris-setosa</td>\n",
              "    </tr>\n",
              "    <tr>\n",
              "      <th>141</th>\n",
              "      <td>5.8</td>\n",
              "      <td>2.7</td>\n",
              "      <td>5.1</td>\n",
              "      <td>1.9</td>\n",
              "      <td>Iris-virginica</td>\n",
              "    </tr>\n",
              "  </tbody>\n",
              "</table>\n",
              "</div>\n",
              "      <button class=\"colab-df-convert\" onclick=\"convertToInteractive('df-4db28d9e-84fc-4192-b780-714be88c8751')\"\n",
              "              title=\"Convert this dataframe to an interactive table.\"\n",
              "              style=\"display:none;\">\n",
              "        \n",
              "  <svg xmlns=\"http://www.w3.org/2000/svg\" height=\"24px\"viewBox=\"0 0 24 24\"\n",
              "       width=\"24px\">\n",
              "    <path d=\"M0 0h24v24H0V0z\" fill=\"none\"/>\n",
              "    <path d=\"M18.56 5.44l.94 2.06.94-2.06 2.06-.94-2.06-.94-.94-2.06-.94 2.06-2.06.94zm-11 1L8.5 8.5l.94-2.06 2.06-.94-2.06-.94L8.5 2.5l-.94 2.06-2.06.94zm10 10l.94 2.06.94-2.06 2.06-.94-2.06-.94-.94-2.06-.94 2.06-2.06.94z\"/><path d=\"M17.41 7.96l-1.37-1.37c-.4-.4-.92-.59-1.43-.59-.52 0-1.04.2-1.43.59L10.3 9.45l-7.72 7.72c-.78.78-.78 2.05 0 2.83L4 21.41c.39.39.9.59 1.41.59.51 0 1.02-.2 1.41-.59l7.78-7.78 2.81-2.81c.8-.78.8-2.07 0-2.86zM5.41 20L4 18.59l7.72-7.72 1.47 1.35L5.41 20z\"/>\n",
              "  </svg>\n",
              "      </button>\n",
              "      \n",
              "  <style>\n",
              "    .colab-df-container {\n",
              "      display:flex;\n",
              "      flex-wrap:wrap;\n",
              "      gap: 12px;\n",
              "    }\n",
              "\n",
              "    .colab-df-convert {\n",
              "      background-color: #E8F0FE;\n",
              "      border: none;\n",
              "      border-radius: 50%;\n",
              "      cursor: pointer;\n",
              "      display: none;\n",
              "      fill: #1967D2;\n",
              "      height: 32px;\n",
              "      padding: 0 0 0 0;\n",
              "      width: 32px;\n",
              "    }\n",
              "\n",
              "    .colab-df-convert:hover {\n",
              "      background-color: #E2EBFA;\n",
              "      box-shadow: 0px 1px 2px rgba(60, 64, 67, 0.3), 0px 1px 3px 1px rgba(60, 64, 67, 0.15);\n",
              "      fill: #174EA6;\n",
              "    }\n",
              "\n",
              "    [theme=dark] .colab-df-convert {\n",
              "      background-color: #3B4455;\n",
              "      fill: #D2E3FC;\n",
              "    }\n",
              "\n",
              "    [theme=dark] .colab-df-convert:hover {\n",
              "      background-color: #434B5C;\n",
              "      box-shadow: 0px 1px 3px 1px rgba(0, 0, 0, 0.15);\n",
              "      filter: drop-shadow(0px 1px 2px rgba(0, 0, 0, 0.3));\n",
              "      fill: #FFFFFF;\n",
              "    }\n",
              "  </style>\n",
              "\n",
              "      <script>\n",
              "        const buttonEl =\n",
              "          document.querySelector('#df-4db28d9e-84fc-4192-b780-714be88c8751 button.colab-df-convert');\n",
              "        buttonEl.style.display =\n",
              "          google.colab.kernel.accessAllowed ? 'block' : 'none';\n",
              "\n",
              "        async function convertToInteractive(key) {\n",
              "          const element = document.querySelector('#df-4db28d9e-84fc-4192-b780-714be88c8751');\n",
              "          const dataTable =\n",
              "            await google.colab.kernel.invokeFunction('convertToInteractive',\n",
              "                                                     [key], {});\n",
              "          if (!dataTable) return;\n",
              "\n",
              "          const docLinkHtml = 'Like what you see? Visit the ' +\n",
              "            '<a target=\"_blank\" href=https://colab.research.google.com/notebooks/data_table.ipynb>data table notebook</a>'\n",
              "            + ' to learn more about interactive tables.';\n",
              "          element.innerHTML = '';\n",
              "          dataTable['output_type'] = 'display_data';\n",
              "          await google.colab.output.renderOutput(dataTable, element);\n",
              "          const docLink = document.createElement('div');\n",
              "          docLink.innerHTML = docLinkHtml;\n",
              "          element.appendChild(docLink);\n",
              "        }\n",
              "      </script>\n",
              "    </div>\n",
              "  </div>\n",
              "  "
            ]
          },
          "metadata": {},
          "execution_count": 5
        }
      ]
    },
    {
      "cell_type": "code",
      "source": [
        "data.describe()"
      ],
      "metadata": {
        "colab": {
          "base_uri": "https://localhost:8080/",
          "height": 300
        },
        "id": "bJyXV10AdAOY",
        "outputId": "eae33f43-3623-4b2a-9780-2778a2e73ac8"
      },
      "execution_count": null,
      "outputs": [
        {
          "output_type": "execute_result",
          "data": {
            "text/plain": [
              "       Sepal length  Sepal width  Petal length  Petal width\n",
              "count    149.000000   149.000000    149.000000   149.000000\n",
              "mean       5.848322     3.051007      3.774497     1.205369\n",
              "std        0.828594     0.433499      1.759651     0.761292\n",
              "min        4.300000     2.000000      1.000000     0.100000\n",
              "25%        5.100000     2.800000      1.600000     0.300000\n",
              "50%        5.800000     3.000000      4.400000     1.300000\n",
              "75%        6.400000     3.300000      5.100000     1.800000\n",
              "max        7.900000     4.400000      6.900000     2.500000"
            ],
            "text/html": [
              "\n",
              "  <div id=\"df-b08e5897-e906-449f-940e-c476f34e8700\">\n",
              "    <div class=\"colab-df-container\">\n",
              "      <div>\n",
              "<style scoped>\n",
              "    .dataframe tbody tr th:only-of-type {\n",
              "        vertical-align: middle;\n",
              "    }\n",
              "\n",
              "    .dataframe tbody tr th {\n",
              "        vertical-align: top;\n",
              "    }\n",
              "\n",
              "    .dataframe thead th {\n",
              "        text-align: right;\n",
              "    }\n",
              "</style>\n",
              "<table border=\"1\" class=\"dataframe\">\n",
              "  <thead>\n",
              "    <tr style=\"text-align: right;\">\n",
              "      <th></th>\n",
              "      <th>Sepal length</th>\n",
              "      <th>Sepal width</th>\n",
              "      <th>Petal length</th>\n",
              "      <th>Petal width</th>\n",
              "    </tr>\n",
              "  </thead>\n",
              "  <tbody>\n",
              "    <tr>\n",
              "      <th>count</th>\n",
              "      <td>149.000000</td>\n",
              "      <td>149.000000</td>\n",
              "      <td>149.000000</td>\n",
              "      <td>149.000000</td>\n",
              "    </tr>\n",
              "    <tr>\n",
              "      <th>mean</th>\n",
              "      <td>5.848322</td>\n",
              "      <td>3.051007</td>\n",
              "      <td>3.774497</td>\n",
              "      <td>1.205369</td>\n",
              "    </tr>\n",
              "    <tr>\n",
              "      <th>std</th>\n",
              "      <td>0.828594</td>\n",
              "      <td>0.433499</td>\n",
              "      <td>1.759651</td>\n",
              "      <td>0.761292</td>\n",
              "    </tr>\n",
              "    <tr>\n",
              "      <th>min</th>\n",
              "      <td>4.300000</td>\n",
              "      <td>2.000000</td>\n",
              "      <td>1.000000</td>\n",
              "      <td>0.100000</td>\n",
              "    </tr>\n",
              "    <tr>\n",
              "      <th>25%</th>\n",
              "      <td>5.100000</td>\n",
              "      <td>2.800000</td>\n",
              "      <td>1.600000</td>\n",
              "      <td>0.300000</td>\n",
              "    </tr>\n",
              "    <tr>\n",
              "      <th>50%</th>\n",
              "      <td>5.800000</td>\n",
              "      <td>3.000000</td>\n",
              "      <td>4.400000</td>\n",
              "      <td>1.300000</td>\n",
              "    </tr>\n",
              "    <tr>\n",
              "      <th>75%</th>\n",
              "      <td>6.400000</td>\n",
              "      <td>3.300000</td>\n",
              "      <td>5.100000</td>\n",
              "      <td>1.800000</td>\n",
              "    </tr>\n",
              "    <tr>\n",
              "      <th>max</th>\n",
              "      <td>7.900000</td>\n",
              "      <td>4.400000</td>\n",
              "      <td>6.900000</td>\n",
              "      <td>2.500000</td>\n",
              "    </tr>\n",
              "  </tbody>\n",
              "</table>\n",
              "</div>\n",
              "      <button class=\"colab-df-convert\" onclick=\"convertToInteractive('df-b08e5897-e906-449f-940e-c476f34e8700')\"\n",
              "              title=\"Convert this dataframe to an interactive table.\"\n",
              "              style=\"display:none;\">\n",
              "        \n",
              "  <svg xmlns=\"http://www.w3.org/2000/svg\" height=\"24px\"viewBox=\"0 0 24 24\"\n",
              "       width=\"24px\">\n",
              "    <path d=\"M0 0h24v24H0V0z\" fill=\"none\"/>\n",
              "    <path d=\"M18.56 5.44l.94 2.06.94-2.06 2.06-.94-2.06-.94-.94-2.06-.94 2.06-2.06.94zm-11 1L8.5 8.5l.94-2.06 2.06-.94-2.06-.94L8.5 2.5l-.94 2.06-2.06.94zm10 10l.94 2.06.94-2.06 2.06-.94-2.06-.94-.94-2.06-.94 2.06-2.06.94z\"/><path d=\"M17.41 7.96l-1.37-1.37c-.4-.4-.92-.59-1.43-.59-.52 0-1.04.2-1.43.59L10.3 9.45l-7.72 7.72c-.78.78-.78 2.05 0 2.83L4 21.41c.39.39.9.59 1.41.59.51 0 1.02-.2 1.41-.59l7.78-7.78 2.81-2.81c.8-.78.8-2.07 0-2.86zM5.41 20L4 18.59l7.72-7.72 1.47 1.35L5.41 20z\"/>\n",
              "  </svg>\n",
              "      </button>\n",
              "      \n",
              "  <style>\n",
              "    .colab-df-container {\n",
              "      display:flex;\n",
              "      flex-wrap:wrap;\n",
              "      gap: 12px;\n",
              "    }\n",
              "\n",
              "    .colab-df-convert {\n",
              "      background-color: #E8F0FE;\n",
              "      border: none;\n",
              "      border-radius: 50%;\n",
              "      cursor: pointer;\n",
              "      display: none;\n",
              "      fill: #1967D2;\n",
              "      height: 32px;\n",
              "      padding: 0 0 0 0;\n",
              "      width: 32px;\n",
              "    }\n",
              "\n",
              "    .colab-df-convert:hover {\n",
              "      background-color: #E2EBFA;\n",
              "      box-shadow: 0px 1px 2px rgba(60, 64, 67, 0.3), 0px 1px 3px 1px rgba(60, 64, 67, 0.15);\n",
              "      fill: #174EA6;\n",
              "    }\n",
              "\n",
              "    [theme=dark] .colab-df-convert {\n",
              "      background-color: #3B4455;\n",
              "      fill: #D2E3FC;\n",
              "    }\n",
              "\n",
              "    [theme=dark] .colab-df-convert:hover {\n",
              "      background-color: #434B5C;\n",
              "      box-shadow: 0px 1px 3px 1px rgba(0, 0, 0, 0.15);\n",
              "      filter: drop-shadow(0px 1px 2px rgba(0, 0, 0, 0.3));\n",
              "      fill: #FFFFFF;\n",
              "    }\n",
              "  </style>\n",
              "\n",
              "      <script>\n",
              "        const buttonEl =\n",
              "          document.querySelector('#df-b08e5897-e906-449f-940e-c476f34e8700 button.colab-df-convert');\n",
              "        buttonEl.style.display =\n",
              "          google.colab.kernel.accessAllowed ? 'block' : 'none';\n",
              "\n",
              "        async function convertToInteractive(key) {\n",
              "          const element = document.querySelector('#df-b08e5897-e906-449f-940e-c476f34e8700');\n",
              "          const dataTable =\n",
              "            await google.colab.kernel.invokeFunction('convertToInteractive',\n",
              "                                                     [key], {});\n",
              "          if (!dataTable) return;\n",
              "\n",
              "          const docLinkHtml = 'Like what you see? Visit the ' +\n",
              "            '<a target=\"_blank\" href=https://colab.research.google.com/notebooks/data_table.ipynb>data table notebook</a>'\n",
              "            + ' to learn more about interactive tables.';\n",
              "          element.innerHTML = '';\n",
              "          dataTable['output_type'] = 'display_data';\n",
              "          await google.colab.output.renderOutput(dataTable, element);\n",
              "          const docLink = document.createElement('div');\n",
              "          docLink.innerHTML = docLinkHtml;\n",
              "          element.appendChild(docLink);\n",
              "        }\n",
              "      </script>\n",
              "    </div>\n",
              "  </div>\n",
              "  "
            ]
          },
          "metadata": {},
          "execution_count": 6
        }
      ]
    },
    {
      "cell_type": "code",
      "source": [
        "def findOutlier(data):\n",
        "  for column in data.columns:\n",
        "    q3, q1 = np.percentile(data[column], [75, 25])\n",
        "    IQR = q3 - q1\n",
        "\n",
        "    upper_bound = q3 + 1.5 * IQR\n",
        "    lower_bound = q1 - 1.5 * IQR\n",
        "\n",
        "    outlier = data[column][data[column] > upper_bound]\n",
        "    outlier = data[column][data[column] < lower_bound]\n",
        "    print(\"\\nJumlah Outlier dari data\", column)\n",
        "    print(len(outlier))"
      ],
      "metadata": {
        "id": "AH6dHmThdrEk"
      },
      "execution_count": null,
      "outputs": []
    },
    {
      "cell_type": "code",
      "source": [
        "findOutlier(data.iloc[:, 0:4])"
      ],
      "metadata": {
        "colab": {
          "base_uri": "https://localhost:8080/"
        },
        "id": "sdX0TPKTduCl",
        "outputId": "048a903e-04a3-4541-e17c-6f9060fdf18c"
      },
      "execution_count": null,
      "outputs": [
        {
          "output_type": "stream",
          "name": "stdout",
          "text": [
            "\n",
            "Jumlah Outlier dari data Sepal length\n",
            "0\n",
            "\n",
            "Jumlah Outlier dari data Sepal width\n",
            "1\n",
            "\n",
            "Jumlah Outlier dari data Petal length\n",
            "0\n",
            "\n",
            "Jumlah Outlier dari data Petal width\n",
            "0\n"
          ]
        }
      ]
    },
    {
      "cell_type": "code",
      "source": [
        "sns.pairplot(data.iloc[:, 0:4])"
      ],
      "metadata": {
        "id": "f3LFhVUNfYMy",
        "outputId": "95aefc58-145a-4385-9180-b40ea874c186",
        "colab": {
          "base_uri": "https://localhost:8080/",
          "height": 743
        }
      },
      "execution_count": null,
      "outputs": [
        {
          "output_type": "execute_result",
          "data": {
            "text/plain": [
              "<seaborn.axisgrid.PairGrid at 0x7f0e5332e400>"
            ]
          },
          "metadata": {},
          "execution_count": 9
        },
        {
          "output_type": "display_data",
          "data": {
            "text/plain": [
              "<Figure size 720x720 with 20 Axes>"
            ],
            "image/png": "[encoded data removed]"
          },
          "metadata": {
            "needs_background": "light"
          }
        }
      ]
    },
    {
      "cell_type": "markdown",
      "source": [
        "#Preprocessing Data"
      ],
      "metadata": {
        "id": "qn4AFBTdLeDa"
      }
    },
    {
      "cell_type": "markdown",
      "source": [
        "menghilangkan data duplikat"
      ],
      "metadata": {
        "id": "F_bNrJrgLhmg"
      }
    },
    {
      "cell_type": "code",
      "source": [
        "data = data.drop_duplicates()\n",
        "data.duplicated().sum()"
      ],
      "metadata": {
        "colab": {
          "base_uri": "https://localhost:8080/"
        },
        "id": "npwHblY7PDBB",
        "outputId": "59fe3f57-85b3-445e-e30c-5ef773df0cdb"
      },
      "execution_count": null,
      "outputs": [
        {
          "output_type": "execute_result",
          "data": {
            "text/plain": [
              "0"
            ]
          },
          "metadata": {},
          "execution_count": 10
        }
      ]
    },
    {
      "cell_type": "markdown",
      "source": [
        "memisahkan fitur dan label"
      ],
      "metadata": {
        "id": "qHQopDxqQhLo"
      }
    },
    {
      "cell_type": "code",
      "source": [
        "fitur = data.iloc[:, 0:4]\n",
        "label = data['Species']"
      ],
      "metadata": {
        "id": "pTB0i-5OQi4u"
      },
      "execution_count": null,
      "outputs": []
    },
    {
      "cell_type": "code",
      "source": [
        "fitur"
      ],
      "metadata": {
        "colab": {
          "base_uri": "https://localhost:8080/",
          "height": 424
        },
        "id": "8D9yuzKSQ3an",
        "outputId": "fcf9d8bc-31ed-429e-e5d1-636b00c8b016"
      },
      "execution_count": null,
      "outputs": [
        {
          "output_type": "execute_result",
          "data": {
            "text/plain": [
              "     Sepal length  Sepal width  Petal length  Petal width\n",
              "0             4.9          3.0           1.4          0.2\n",
              "1             4.7          3.2           1.3          0.2\n",
              "2             4.6          3.1           1.5          0.2\n",
              "3             5.0          3.6           1.4          0.2\n",
              "4             5.4          3.9           1.7          0.4\n",
              "..            ...          ...           ...          ...\n",
              "144           6.7          3.0           5.2          2.3\n",
              "145           6.3          2.5           5.0          1.9\n",
              "146           6.5          3.0           5.2          2.0\n",
              "147           6.2          3.4           5.4          2.3\n",
              "148           5.9          3.0           5.1          1.8\n",
              "\n",
              "[146 rows x 4 columns]"
            ],
            "text/html": [
              "\n",
              "  <div id=\"df-47f27ec7-291a-4822-9076-ea33e5f002e2\">\n",
              "    <div class=\"colab-df-container\">\n",
              "      <div>\n",
              "<style scoped>\n",
              "    .dataframe tbody tr th:only-of-type {\n",
              "        vertical-align: middle;\n",
              "    }\n",
              "\n",
              "    .dataframe tbody tr th {\n",
              "        vertical-align: top;\n",
              "    }\n",
              "\n",
              "    .dataframe thead th {\n",
              "        text-align: right;\n",
              "    }\n",
              "</style>\n",
              "<table border=\"1\" class=\"dataframe\">\n",
              "  <thead>\n",
              "    <tr style=\"text-align: right;\">\n",
              "      <th></th>\n",
              "      <th>Sepal length</th>\n",
              "      <th>Sepal width</th>\n",
              "      <th>Petal length</th>\n",
              "      <th>Petal width</th>\n",
              "    </tr>\n",
              "  </thead>\n",
              "  <tbody>\n",
              "    <tr>\n",
              "      <th>0</th>\n",
              "      <td>4.9</td>\n",
              "      <td>3.0</td>\n",
              "      <td>1.4</td>\n",
              "      <td>0.2</td>\n",
              "    </tr>\n",
              "    <tr>\n",
              "      <th>1</th>\n",
              "      <td>4.7</td>\n",
              "      <td>3.2</td>\n",
              "      <td>1.3</td>\n",
              "      <td>0.2</td>\n",
              "    </tr>\n",
              "    <tr>\n",
              "      <th>2</th>\n",
              "      <td>4.6</td>\n",
              "      <td>3.1</td>\n",
              "      <td>1.5</td>\n",
              "      <td>0.2</td>\n",
              "    </tr>\n",
              "    <tr>\n",
              "      <th>3</th>\n",
              "      <td>5.0</td>\n",
              "      <td>3.6</td>\n",
              "      <td>1.4</td>\n",
              "      <td>0.2</td>\n",
              "    </tr>\n",
              "    <tr>\n",
              "      <th>4</th>\n",
              "      <td>5.4</td>\n",
              "      <td>3.9</td>\n",
              "      <td>1.7</td>\n",
              "      <td>0.4</td>\n",
              "    </tr>\n",
              "    <tr>\n",
              "      <th>...</th>\n",
              "      <td>...</td>\n",
              "      <td>...</td>\n",
              "      <td>...</td>\n",
              "      <td>...</td>\n",
              "    </tr>\n",
              "    <tr>\n",
              "      <th>144</th>\n",
              "      <td>6.7</td>\n",
              "      <td>3.0</td>\n",
              "      <td>5.2</td>\n",
              "      <td>2.3</td>\n",
              "    </tr>\n",
              "    <tr>\n",
              "      <th>145</th>\n",
              "      <td>6.3</td>\n",
              "      <td>2.5</td>\n",
              "      <td>5.0</td>\n",
              "      <td>1.9</td>\n",
              "    </tr>\n",
              "    <tr>\n",
              "      <th>146</th>\n",
              "      <td>6.5</td>\n",
              "      <td>3.0</td>\n",
              "      <td>5.2</td>\n",
              "      <td>2.0</td>\n",
              "    </tr>\n",
              "    <tr>\n",
              "      <th>147</th>\n",
              "      <td>6.2</td>\n",
              "      <td>3.4</td>\n",
              "      <td>5.4</td>\n",
              "      <td>2.3</td>\n",
              "    </tr>\n",
              "    <tr>\n",
              "      <th>148</th>\n",
              "      <td>5.9</td>\n",
              "      <td>3.0</td>\n",
              "      <td>5.1</td>\n",
              "      <td>1.8</td>\n",
              "    </tr>\n",
              "  </tbody>\n",
              "</table>\n",
              "<p>146 rows × 4 columns</p>\n",
              "</div>\n",
              "      <button class=\"colab-df-convert\" onclick=\"convertToInteractive('df-47f27ec7-291a-4822-9076-ea33e5f002e2')\"\n",
              "              title=\"Convert this dataframe to an interactive table.\"\n",
              "              style=\"display:none;\">\n",
              "        \n",
              "  <svg xmlns=\"http://www.w3.org/2000/svg\" height=\"24px\"viewBox=\"0 0 24 24\"\n",
              "       width=\"24px\">\n",
              "    <path d=\"M0 0h24v24H0V0z\" fill=\"none\"/>\n",
              "    <path d=\"M18.56 5.44l.94 2.06.94-2.06 2.06-.94-2.06-.94-.94-2.06-.94 2.06-2.06.94zm-11 1L8.5 8.5l.94-2.06 2.06-.94-2.06-.94L8.5 2.5l-.94 2.06-2.06.94zm10 10l.94 2.06.94-2.06 2.06-.94-2.06-.94-.94-2.06-.94 2.06-2.06.94z\"/><path d=\"M17.41 7.96l-1.37-1.37c-.4-.4-.92-.59-1.43-.59-.52 0-1.04.2-1.43.59L10.3 9.45l-7.72 7.72c-.78.78-.78 2.05 0 2.83L4 21.41c.39.39.9.59 1.41.59.51 0 1.02-.2 1.41-.59l7.78-7.78 2.81-2.81c.8-.78.8-2.07 0-2.86zM5.41 20L4 18.59l7.72-7.72 1.47 1.35L5.41 20z\"/>\n",
              "  </svg>\n",
              "      </button>\n",
              "      \n",
              "  <style>\n",
              "    .colab-df-container {\n",
              "      display:flex;\n",
              "      flex-wrap:wrap;\n",
              "      gap: 12px;\n",
              "    }\n",
              "\n",
              "    .colab-df-convert {\n",
              "      background-color: #E8F0FE;\n",
              "      border: none;\n",
              "      border-radius: 50%;\n",
              "      cursor: pointer;\n",
              "      display: none;\n",
              "      fill: #1967D2;\n",
              "      height: 32px;\n",
              "      padding: 0 0 0 0;\n",
              "      width: 32px;\n",
              "    }\n",
              "\n",
              "    .colab-df-convert:hover {\n",
              "      background-color: #E2EBFA;\n",
              "      box-shadow: 0px 1px 2px rgba(60, 64, 67, 0.3), 0px 1px 3px 1px rgba(60, 64, 67, 0.15);\n",
              "      fill: #174EA6;\n",
              "    }\n",
              "\n",
              "    [theme=dark] .colab-df-convert {\n",
              "      background-color: #3B4455;\n",
              "      fill: #D2E3FC;\n",
              "    }\n",
              "\n",
              "    [theme=dark] .colab-df-convert:hover {\n",
              "      background-color: #434B5C;\n",
              "      box-shadow: 0px 1px 3px 1px rgba(0, 0, 0, 0.15);\n",
              "      filter: drop-shadow(0px 1px 2px rgba(0, 0, 0, 0.3));\n",
              "      fill: #FFFFFF;\n",
              "    }\n",
              "  </style>\n",
              "\n",
              "      <script>\n",
              "        const buttonEl =\n",
              "          document.querySelector('#df-47f27ec7-291a-4822-9076-ea33e5f002e2 button.colab-df-convert');\n",
              "        buttonEl.style.display =\n",
              "          google.colab.kernel.accessAllowed ? 'block' : 'none';\n",
              "\n",
              "        async function convertToInteractive(key) {\n",
              "          const element = document.querySelector('#df-47f27ec7-291a-4822-9076-ea33e5f002e2');\n",
              "          const dataTable =\n",
              "            await google.colab.kernel.invokeFunction('convertToInteractive',\n",
              "                                                     [key], {});\n",
              "          if (!dataTable) return;\n",
              "\n",
              "          const docLinkHtml = 'Like what you see? Visit the ' +\n",
              "            '<a target=\"_blank\" href=https://colab.research.google.com/notebooks/data_table.ipynb>data table notebook</a>'\n",
              "            + ' to learn more about interactive tables.';\n",
              "          element.innerHTML = '';\n",
              "          dataTable['output_type'] = 'display_data';\n",
              "          await google.colab.output.renderOutput(dataTable, element);\n",
              "          const docLink = document.createElement('div');\n",
              "          docLink.innerHTML = docLinkHtml;\n",
              "          element.appendChild(docLink);\n",
              "        }\n",
              "      </script>\n",
              "    </div>\n",
              "  </div>\n",
              "  "
            ]
          },
          "metadata": {},
          "execution_count": 12
        }
      ]
    },
    {
      "cell_type": "code",
      "source": [
        "label"
      ],
      "metadata": {
        "colab": {
          "base_uri": "https://localhost:8080/"
        },
        "id": "FaaS1n_xQ67m",
        "outputId": "216f94a5-07f8-46e6-a118-101e38ead5d2"
      },
      "execution_count": null,
      "outputs": [
        {
          "output_type": "execute_result",
          "data": {
            "text/plain": [
              "0         Iris-setosa\n",
              "1         Iris-setosa\n",
              "2         Iris-setosa\n",
              "3         Iris-setosa\n",
              "4         Iris-setosa\n",
              "            ...      \n",
              "144    Iris-virginica\n",
              "145    Iris-virginica\n",
              "146    Iris-virginica\n",
              "147    Iris-virginica\n",
              "148    Iris-virginica\n",
              "Name: Species, Length: 146, dtype: object"
            ]
          },
          "metadata": {},
          "execution_count": 13
        }
      ]
    },
    {
      "cell_type": "markdown",
      "source": [
        "menghapus outlier"
      ],
      "metadata": {
        "id": "r4W1wH4lLjzy"
      }
    },
    {
      "cell_type": "code",
      "source": [
        "def removeOutlier(data):\n",
        "  for column in data.columns:\n",
        "    perce = data[column].quantile([0.75, 0.25]).values\n",
        "    IQR = perce[0] - perce[1]\n",
        "\n",
        "    upper_bound = perce[0] + 1.5 * IQR\n",
        "    lower_bound = perce[1] - 1.5 * IQR\n",
        "\n",
        "    bound = [lower_bound, upper_bound]\n",
        "    data[column][data[column] <= bound[0]] = bound[0]\n",
        "    data[column][data[column] >= bound[1]] = bound[1]\n",
        "  return data"
      ],
      "metadata": {
        "id": "9Zqp-LhFPlas"
      },
      "execution_count": null,
      "outputs": []
    },
    {
      "cell_type": "code",
      "source": [
        "fitur = removeOutlier(fitur.iloc[:, 0:4])\n",
        "findOutlier(fitur.iloc[:, 0:4])"
      ],
      "metadata": {
        "colab": {
          "base_uri": "https://localhost:8080/"
        },
        "id": "CN-cjvTbPo9y",
        "outputId": "ecbf9d87-fcd1-4476-a815-e0373b74cca4"
      },
      "execution_count": null,
      "outputs": [
        {
          "output_type": "stream",
          "name": "stdout",
          "text": [
            "\n",
            "Jumlah Outlier dari data Sepal length\n",
            "0\n",
            "\n",
            "Jumlah Outlier dari data Sepal width\n",
            "0\n",
            "\n",
            "Jumlah Outlier dari data Petal length\n",
            "0\n",
            "\n",
            "Jumlah Outlier dari data Petal width\n",
            "0\n"
          ]
        },
        {
          "output_type": "stream",
          "name": "stderr",
          "text": [
            "/usr/local/lib/python3.8/dist-packages/pandas/core/generic.py:8870: SettingWithCopyWarning: \n",
            "A value is trying to be set on a copy of a slice from a DataFrame\n",
            "\n",
            "See the caveats in the documentation: https://pandas.pydata.org/pandas-docs/stable/user_guide/indexing.html#returning-a-view-versus-a-copy\n",
            "  return self._update_inplace(result)\n"
          ]
        }
      ]
    },
    {
      "cell_type": "markdown",
      "source": [
        "melakukan scaling data"
      ],
      "metadata": {
        "id": "7DxbLrLgLpbk"
      }
    },
    {
      "cell_type": "code",
      "source": [
        "scaler = MinMaxScaler()\n",
        "\n",
        "fitur = scaler.fit_transform(fitur)\n",
        "fitur"
      ],
      "metadata": {
        "colab": {
          "base_uri": "https://localhost:8080/"
        },
        "id": "4ujoOYQUP5fJ",
        "outputId": "98309af1-92d9-43a2-e360-f1668d57fd50"
      },
      "execution_count": null,
      "outputs": [
        {
          "output_type": "execute_result",
          "data": {
            "text/plain": [
              "array([[0.16666667, 0.475     , 0.06779661, 0.04166667],\n",
              "       [0.11111111, 0.575     , 0.05084746, 0.04166667],\n",
              "       [0.08333333, 0.525     , 0.08474576, 0.04166667],\n",
              "       [0.19444444, 0.775     , 0.06779661, 0.04166667],\n",
              "       [0.30555556, 0.925     , 0.11864407, 0.125     ],\n",
              "       [0.08333333, 0.675     , 0.06779661, 0.08333333],\n",
              "       [0.19444444, 0.675     , 0.08474576, 0.04166667],\n",
              "       [0.02777778, 0.425     , 0.06779661, 0.04166667],\n",
              "       [0.16666667, 0.525     , 0.08474576, 0.        ],\n",
              "       [0.30555556, 0.825     , 0.08474576, 0.04166667],\n",
              "       [0.13888889, 0.675     , 0.10169492, 0.04166667],\n",
              "       [0.13888889, 0.475     , 0.06779661, 0.        ],\n",
              "       [0.        , 0.475     , 0.01694915, 0.        ],\n",
              "       [0.41666667, 0.975     , 0.03389831, 0.04166667],\n",
              "       [0.38888889, 1.        , 0.08474576, 0.125     ],\n",
              "       [0.30555556, 0.925     , 0.05084746, 0.125     ],\n",
              "       [0.22222222, 0.725     , 0.06779661, 0.08333333],\n",
              "       [0.38888889, 0.875     , 0.11864407, 0.08333333],\n",
              "       [0.22222222, 0.875     , 0.08474576, 0.08333333],\n",
              "       [0.30555556, 0.675     , 0.11864407, 0.04166667],\n",
              "       [0.22222222, 0.825     , 0.08474576, 0.125     ],\n",
              "       [0.08333333, 0.775     , 0.        , 0.04166667],\n",
              "       [0.22222222, 0.625     , 0.11864407, 0.16666667],\n",
              "       [0.13888889, 0.675     , 0.15254237, 0.04166667],\n",
              "       [0.19444444, 0.475     , 0.10169492, 0.04166667],\n",
              "       [0.19444444, 0.675     , 0.10169492, 0.125     ],\n",
              "       [0.25      , 0.725     , 0.08474576, 0.04166667],\n",
              "       [0.25      , 0.675     , 0.06779661, 0.04166667],\n",
              "       [0.11111111, 0.575     , 0.10169492, 0.04166667],\n",
              "       [0.13888889, 0.525     , 0.10169492, 0.04166667],\n",
              "       [0.30555556, 0.675     , 0.08474576, 0.125     ],\n",
              "       [0.25      , 1.        , 0.08474576, 0.        ],\n",
              "       [0.33333333, 1.        , 0.06779661, 0.04166667],\n",
              "       [0.19444444, 0.575     , 0.03389831, 0.04166667],\n",
              "       [0.33333333, 0.725     , 0.05084746, 0.04166667],\n",
              "       [0.02777778, 0.475     , 0.05084746, 0.04166667],\n",
              "       [0.22222222, 0.675     , 0.08474576, 0.04166667],\n",
              "       [0.19444444, 0.725     , 0.05084746, 0.08333333],\n",
              "       [0.05555556, 0.125     , 0.05084746, 0.08333333],\n",
              "       [0.02777778, 0.575     , 0.05084746, 0.04166667],\n",
              "       [0.19444444, 0.725     , 0.10169492, 0.20833333],\n",
              "       [0.22222222, 0.875     , 0.15254237, 0.125     ],\n",
              "       [0.13888889, 0.475     , 0.06779661, 0.08333333],\n",
              "       [0.22222222, 0.875     , 0.10169492, 0.04166667],\n",
              "       [0.08333333, 0.575     , 0.06779661, 0.04166667],\n",
              "       [0.27777778, 0.825     , 0.08474576, 0.04166667],\n",
              "       [0.19444444, 0.625     , 0.06779661, 0.04166667],\n",
              "       [0.75      , 0.575     , 0.62711864, 0.54166667],\n",
              "       [0.58333333, 0.575     , 0.59322034, 0.58333333],\n",
              "       [0.72222222, 0.525     , 0.66101695, 0.58333333],\n",
              "       [0.33333333, 0.125     , 0.50847458, 0.5       ],\n",
              "       [0.61111111, 0.375     , 0.61016949, 0.58333333],\n",
              "       [0.38888889, 0.375     , 0.59322034, 0.5       ],\n",
              "       [0.55555556, 0.625     , 0.62711864, 0.625     ],\n",
              "       [0.16666667, 0.175     , 0.38983051, 0.375     ],\n",
              "       [0.63888889, 0.425     , 0.61016949, 0.5       ],\n",
              "       [0.25      , 0.325     , 0.49152542, 0.54166667],\n",
              "       [0.19444444, 0.        , 0.42372881, 0.375     ],\n",
              "       [0.44444444, 0.475     , 0.54237288, 0.58333333],\n",
              "       [0.47222222, 0.075     , 0.50847458, 0.375     ],\n",
              "       [0.5       , 0.425     , 0.62711864, 0.54166667],\n",
              "       [0.36111111, 0.425     , 0.44067797, 0.5       ],\n",
              "       [0.66666667, 0.525     , 0.57627119, 0.54166667],\n",
              "       [0.36111111, 0.475     , 0.59322034, 0.58333333],\n",
              "       [0.41666667, 0.325     , 0.52542373, 0.375     ],\n",
              "       [0.52777778, 0.075     , 0.59322034, 0.58333333],\n",
              "       [0.36111111, 0.225     , 0.49152542, 0.41666667],\n",
              "       [0.44444444, 0.575     , 0.6440678 , 0.70833333],\n",
              "       [0.5       , 0.375     , 0.50847458, 0.5       ],\n",
              "       [0.55555556, 0.225     , 0.66101695, 0.58333333],\n",
              "       [0.5       , 0.375     , 0.62711864, 0.45833333],\n",
              "       [0.58333333, 0.425     , 0.55932203, 0.5       ],\n",
              "       [0.63888889, 0.475     , 0.57627119, 0.54166667],\n",
              "       [0.69444444, 0.375     , 0.6440678 , 0.54166667],\n",
              "       [0.66666667, 0.475     , 0.6779661 , 0.66666667],\n",
              "       [0.47222222, 0.425     , 0.59322034, 0.58333333],\n",
              "       [0.38888889, 0.275     , 0.42372881, 0.375     ],\n",
              "       [0.33333333, 0.175     , 0.47457627, 0.41666667],\n",
              "       [0.33333333, 0.175     , 0.45762712, 0.375     ],\n",
              "       [0.41666667, 0.325     , 0.49152542, 0.45833333],\n",
              "       [0.47222222, 0.325     , 0.69491525, 0.625     ],\n",
              "       [0.30555556, 0.475     , 0.59322034, 0.58333333],\n",
              "       [0.47222222, 0.675     , 0.59322034, 0.625     ],\n",
              "       [0.66666667, 0.525     , 0.62711864, 0.58333333],\n",
              "       [0.55555556, 0.125     , 0.57627119, 0.5       ],\n",
              "       [0.36111111, 0.475     , 0.52542373, 0.5       ],\n",
              "       [0.33333333, 0.225     , 0.50847458, 0.5       ],\n",
              "       [0.33333333, 0.275     , 0.57627119, 0.45833333],\n",
              "       [0.5       , 0.475     , 0.61016949, 0.54166667],\n",
              "       [0.41666667, 0.275     , 0.50847458, 0.45833333],\n",
              "       [0.19444444, 0.125     , 0.38983051, 0.375     ],\n",
              "       [0.36111111, 0.325     , 0.54237288, 0.5       ],\n",
              "       [0.38888889, 0.475     , 0.54237288, 0.45833333],\n",
              "       [0.38888889, 0.425     , 0.54237288, 0.5       ],\n",
              "       [0.52777778, 0.425     , 0.55932203, 0.5       ],\n",
              "       [0.22222222, 0.225     , 0.33898305, 0.41666667],\n",
              "       [0.38888889, 0.375     , 0.52542373, 0.5       ],\n",
              "       [0.55555556, 0.625     , 0.84745763, 1.        ],\n",
              "       [0.41666667, 0.325     , 0.69491525, 0.75      ],\n",
              "       [0.77777778, 0.475     , 0.83050847, 0.83333333],\n",
              "       [0.55555556, 0.425     , 0.77966102, 0.70833333],\n",
              "       [0.61111111, 0.475     , 0.81355932, 0.875     ],\n",
              "       [0.91666667, 0.475     , 0.94915254, 0.83333333],\n",
              "       [0.16666667, 0.225     , 0.59322034, 0.66666667],\n",
              "       [0.83333333, 0.425     , 0.89830508, 0.70833333],\n",
              "       [0.66666667, 0.225     , 0.81355932, 0.70833333],\n",
              "       [0.80555556, 0.775     , 0.86440678, 1.        ],\n",
              "       [0.61111111, 0.575     , 0.69491525, 0.79166667],\n",
              "       [0.58333333, 0.325     , 0.72881356, 0.75      ],\n",
              "       [0.69444444, 0.475     , 0.76271186, 0.83333333],\n",
              "       [0.38888889, 0.225     , 0.6779661 , 0.79166667],\n",
              "       [0.41666667, 0.375     , 0.69491525, 0.95833333],\n",
              "       [0.58333333, 0.575     , 0.72881356, 0.91666667],\n",
              "       [0.61111111, 0.475     , 0.76271186, 0.70833333],\n",
              "       [0.94444444, 0.875     , 0.96610169, 0.875     ],\n",
              "       [0.94444444, 0.275     , 1.        , 0.91666667],\n",
              "       [0.47222222, 0.075     , 0.6779661 , 0.58333333],\n",
              "       [0.72222222, 0.575     , 0.79661017, 0.91666667],\n",
              "       [0.36111111, 0.375     , 0.66101695, 0.79166667],\n",
              "       [0.94444444, 0.375     , 0.96610169, 0.79166667],\n",
              "       [0.55555556, 0.325     , 0.66101695, 0.70833333],\n",
              "       [0.66666667, 0.625     , 0.79661017, 0.83333333],\n",
              "       [0.80555556, 0.575     , 0.84745763, 0.70833333],\n",
              "       [0.52777778, 0.375     , 0.6440678 , 0.70833333],\n",
              "       [0.5       , 0.475     , 0.66101695, 0.70833333],\n",
              "       [0.58333333, 0.375     , 0.77966102, 0.83333333],\n",
              "       [0.80555556, 0.475     , 0.81355932, 0.625     ],\n",
              "       [0.86111111, 0.375     , 0.86440678, 0.75      ],\n",
              "       [1.        , 0.875     , 0.91525424, 0.79166667],\n",
              "       [0.58333333, 0.375     , 0.77966102, 0.875     ],\n",
              "       [0.55555556, 0.375     , 0.69491525, 0.58333333],\n",
              "       [0.5       , 0.275     , 0.77966102, 0.54166667],\n",
              "       [0.94444444, 0.475     , 0.86440678, 0.91666667],\n",
              "       [0.55555556, 0.675     , 0.77966102, 0.95833333],\n",
              "       [0.58333333, 0.525     , 0.76271186, 0.70833333],\n",
              "       [0.47222222, 0.475     , 0.6440678 , 0.70833333],\n",
              "       [0.72222222, 0.525     , 0.74576271, 0.83333333],\n",
              "       [0.66666667, 0.525     , 0.77966102, 0.95833333],\n",
              "       [0.72222222, 0.525     , 0.69491525, 0.91666667],\n",
              "       [0.69444444, 0.575     , 0.83050847, 0.91666667],\n",
              "       [0.66666667, 0.625     , 0.79661017, 1.        ],\n",
              "       [0.66666667, 0.475     , 0.71186441, 0.91666667],\n",
              "       [0.55555556, 0.225     , 0.6779661 , 0.75      ],\n",
              "       [0.61111111, 0.475     , 0.71186441, 0.79166667],\n",
              "       [0.52777778, 0.675     , 0.74576271, 0.91666667],\n",
              "       [0.44444444, 0.475     , 0.69491525, 0.70833333]])"
            ]
          },
          "metadata": {},
          "execution_count": 16
        }
      ]
    },
    {
      "cell_type": "markdown",
      "source": [
        "mengubah label menjadi numerik"
      ],
      "metadata": {
        "id": "glat6qzPL68y"
      }
    },
    {
      "cell_type": "code",
      "source": [
        "def transform(label):\n",
        "  num_label = []\n",
        "  for l in label:\n",
        "    if l == 'Iris-setosa':\n",
        "      num_label.append(1)\n",
        "    elif l == 'Iris-versicolor':\n",
        "      num_label.append(2)\n",
        "    else:\n",
        "      num_label.append(3)\n",
        "  return num_label"
      ],
      "metadata": {
        "id": "gbWR8FwqRqLU"
      },
      "execution_count": null,
      "outputs": []
    },
    {
      "cell_type": "code",
      "source": [
        "label = transform(label)\n",
        "label"
      ],
      "metadata": {
        "colab": {
          "base_uri": "https://localhost:8080/"
        },
        "id": "YL0hF_7ISOeI",
        "outputId": "2212e386-a894-4c30-ad87-e0cb42840ddd"
      },
      "execution_count": null,
      "outputs": [
        {
          "output_type": "execute_result",
          "data": {
            "text/plain": [
              "[1,\n",
              " 1,\n",
              " 1,\n",
              " 1,\n",
              " 1,\n",
              " 1,\n",
              " 1,\n",
              " 1,\n",
              " 1,\n",
              " 1,\n",
              " 1,\n",
              " 1,\n",
              " 1,\n",
              " 1,\n",
              " 1,\n",
              " 1,\n",
              " 1,\n",
              " 1,\n",
              " 1,\n",
              " 1,\n",
              " 1,\n",
              " 1,\n",
              " 1,\n",
              " 1,\n",
              " 1,\n",
              " 1,\n",
              " 1,\n",
              " 1,\n",
              " 1,\n",
              " 1,\n",
              " 1,\n",
              " 1,\n",
              " 1,\n",
              " 1,\n",
              " 1,\n",
              " 1,\n",
              " 1,\n",
              " 1,\n",
              " 1,\n",
              " 1,\n",
              " 1,\n",
              " 1,\n",
              " 1,\n",
              " 1,\n",
              " 1,\n",
              " 1,\n",
              " 1,\n",
              " 2,\n",
              " 2,\n",
              " 2,\n",
              " 2,\n",
              " 2,\n",
              " 2,\n",
              " 2,\n",
              " 2,\n",
              " 2,\n",
              " 2,\n",
              " 2,\n",
              " 2,\n",
              " 2,\n",
              " 2,\n",
              " 2,\n",
              " 2,\n",
              " 2,\n",
              " 2,\n",
              " 2,\n",
              " 2,\n",
              " 2,\n",
              " 2,\n",
              " 2,\n",
              " 2,\n",
              " 2,\n",
              " 2,\n",
              " 2,\n",
              " 2,\n",
              " 2,\n",
              " 2,\n",
              " 2,\n",
              " 2,\n",
              " 2,\n",
              " 2,\n",
              " 2,\n",
              " 2,\n",
              " 2,\n",
              " 2,\n",
              " 2,\n",
              " 2,\n",
              " 2,\n",
              " 2,\n",
              " 2,\n",
              " 2,\n",
              " 2,\n",
              " 2,\n",
              " 2,\n",
              " 2,\n",
              " 2,\n",
              " 2,\n",
              " 3,\n",
              " 3,\n",
              " 3,\n",
              " 3,\n",
              " 3,\n",
              " 3,\n",
              " 3,\n",
              " 3,\n",
              " 3,\n",
              " 3,\n",
              " 3,\n",
              " 3,\n",
              " 3,\n",
              " 3,\n",
              " 3,\n",
              " 3,\n",
              " 3,\n",
              " 3,\n",
              " 3,\n",
              " 3,\n",
              " 3,\n",
              " 3,\n",
              " 3,\n",
              " 3,\n",
              " 3,\n",
              " 3,\n",
              " 3,\n",
              " 3,\n",
              " 3,\n",
              " 3,\n",
              " 3,\n",
              " 3,\n",
              " 3,\n",
              " 3,\n",
              " 3,\n",
              " 3,\n",
              " 3,\n",
              " 3,\n",
              " 3,\n",
              " 3,\n",
              " 3,\n",
              " 3,\n",
              " 3,\n",
              " 3,\n",
              " 3,\n",
              " 3,\n",
              " 3,\n",
              " 3,\n",
              " 3]"
            ]
          },
          "metadata": {},
          "execution_count": 18
        }
      ]
    },
    {
      "cell_type": "markdown",
      "source": [
        "membagi data latih dan test"
      ],
      "metadata": {
        "id": "dDqjxp3uMCFV"
      }
    },
    {
      "cell_type": "code",
      "source": [
        "X_train, X_test, y_train, y_test = train_test_split(fitur, label, test_size=.3)"
      ],
      "metadata": {
        "id": "KgHpwiRWLtbr"
      },
      "execution_count": null,
      "outputs": []
    },
    {
      "cell_type": "markdown",
      "metadata": {
        "id": "RduxLPzY7HaP"
      },
      "source": [
        "#Fungsi *Training* ELM\n"
      ]
    },
    {
      "cell_type": "code",
      "metadata": {
        "id": "g6M5D3hy6_YT"
      },
      "source": [
        "def elm_fit(X, target, h, W=None):\n",
        "  start_time = time.time()\n",
        "\n",
        "  if W is None:\n",
        "    W = np.random.uniform(0, 1, (h, len(X[0])))\n",
        "\n",
        "  Hinit = X @ W.T\n",
        "  H = 1 / (1 + np.exp(-Hinit))\n",
        "  Ht = H.T\n",
        "  Hp = np.linalg.inv(Ht @ H) @ Ht\n",
        "  beta = Hp @ target\n",
        "  y = H @ beta\n",
        "\n",
        "  execution = time.time() - start_time\n",
        "  print('Waktu eksekusi: %s detik' % execution)\n",
        "    \n",
        "  return W, beta"
      ],
      "execution_count": null,
      "outputs": []
    },
    {
      "cell_type": "markdown",
      "metadata": {
        "id": "RPmJcJpY7XpN"
      },
      "source": [
        "#Fungsi *Testing* ELM"
      ]
    },
    {
      "cell_type": "code",
      "metadata": {
        "id": "38sj5oIK7YAj"
      },
      "source": [
        "def elm_predict(X, W, b, round_output=False):\n",
        "  Hinit = X @ W.T\n",
        "  H = 1 / (1 + np.exp(-Hinit))\n",
        "  y = H @ b\n",
        "  \n",
        "  if round_output:\n",
        "    y = [int(round(x)) for x in y]\n",
        "  return y"
      ],
      "execution_count": null,
      "outputs": []
    },
    {
      "cell_type": "markdown",
      "metadata": {
        "id": "INz910K1VLRD"
      },
      "source": [
        "# Klasifikasi *Dataset* Iris\n"
      ]
    },
    {
      "cell_type": "code",
      "metadata": {
        "id": "SilFnskvVLlr",
        "colab": {
          "base_uri": "https://localhost:8080/"
        },
        "outputId": "5e6a9799-5eee-49e8-937d-8885c1fa350b"
      },
      "source": [
        "acc = []\n",
        "rmse_score = []\n",
        "for i in range (1,15):\n",
        "  W, b = elm_fit(X_train, y_train, i)\n",
        "\n",
        "  output = elm_predict(X_test, W, b, round_output=True)\n",
        "  accuracy = accuracy_score(output, y_test)\n",
        "  mse = mean_squared_error(y_test, output)\n",
        "  rmse = math.sqrt(mse)\n",
        "  acc.append(accuracy)\n",
        "  rmse_score.append(rmse)\n",
        "  print('Hidden Neuron: ', i)\n",
        "  print('Output:', output)\n",
        "  print('True :', y_test)\n",
        "  print('\\n')"
      ],
      "execution_count": null,
      "outputs": [
        {
          "output_type": "stream",
          "name": "stdout",
          "text": [
            "Waktu eksekusi: 0.0018413066864013672 detik\n",
            "Hidden Neuron:  1\n",
            "Output: [2, 2, 2, 2, 2, 2, 2, 2, 2, 2, 2, 2, 2, 2, 2, 2, 2, 2, 2, 2, 2, 2, 2, 2, 2, 2, 2, 2, 2, 2, 2, 2, 2, 2, 2, 2, 2, 2, 2, 2, 2, 2, 2, 2]\n",
            "True : [3, 2, 1, 3, 1, 3, 3, 3, 1, 3, 2, 3, 2, 1, 2, 3, 1, 1, 2, 2, 2, 2, 3, 2, 2, 3, 1, 1, 3, 1, 2, 1, 2, 2, 3, 3, 2, 1, 2, 3, 3, 3, 2, 2]\n",
            "\n",
            "\n",
            "Waktu eksekusi: 0.0007822513580322266 detik\n",
            "Hidden Neuron:  2\n",
            "Output: [3, 2, 1, 3, 1, 3, 3, 3, 1, 3, 2, 2, 2, 1, 2, 3, 1, 2, 2, 2, 2, 2, 3, 2, 2, 3, 1, 1, 3, 1, 2, 1, 2, 2, 3, 3, 2, 1, 2, 3, 3, 3, 2, 2]\n",
            "True : [3, 2, 1, 3, 1, 3, 3, 3, 1, 3, 2, 3, 2, 1, 2, 3, 1, 1, 2, 2, 2, 2, 3, 2, 2, 3, 1, 1, 3, 1, 2, 1, 2, 2, 3, 3, 2, 1, 2, 3, 3, 3, 2, 2]\n",
            "\n",
            "\n",
            "Waktu eksekusi: 0.002812623977661133 detik\n",
            "Hidden Neuron:  3\n",
            "Output: [3, 2, 1, 3, 1, 3, 3, 3, 1, 3, 2, 3, 2, 1, 2, 3, 1, 1, 3, 2, 2, 2, 3, 2, 3, 3, 1, 1, 3, 1, 3, 1, 2, 2, 3, 3, 2, 1, 2, 3, 3, 3, 2, 3]\n",
            "True : [3, 2, 1, 3, 1, 3, 3, 3, 1, 3, 2, 3, 2, 1, 2, 3, 1, 1, 2, 2, 2, 2, 3, 2, 2, 3, 1, 1, 3, 1, 2, 1, 2, 2, 3, 3, 2, 1, 2, 3, 3, 3, 2, 2]\n",
            "\n",
            "\n",
            "Waktu eksekusi: 0.009682178497314453 detik\n",
            "Hidden Neuron:  4\n",
            "Output: [3, 2, 1, 3, 1, 3, 2, 3, 1, 3, 2, 3, 2, 1, 2, 2, 1, 1, 3, 3, 2, 2, 2, 2, 3, 2, 1, 1, 3, 1, 3, 1, 2, 2, 2, 3, 2, 1, 2, 3, 3, 3, 2, 3]\n",
            "True : [3, 2, 1, 3, 1, 3, 3, 3, 1, 3, 2, 3, 2, 1, 2, 3, 1, 1, 2, 2, 2, 2, 3, 2, 2, 3, 1, 1, 3, 1, 2, 1, 2, 2, 3, 3, 2, 1, 2, 3, 3, 3, 2, 2]\n",
            "\n",
            "\n",
            "Waktu eksekusi: 0.00026917457580566406 detik\n",
            "Hidden Neuron:  5\n",
            "Output: [3, 2, 1, 3, 1, 3, 2, 3, 1, 3, 2, 3, 2, 1, 2, 2, 1, 1, 3, 2, 2, 2, 3, 2, 3, 3, 1, 1, 3, 1, 2, 1, 2, 2, 3, 3, 2, 1, 2, 3, 3, 3, 2, 3]\n",
            "True : [3, 2, 1, 3, 1, 3, 3, 3, 1, 3, 2, 3, 2, 1, 2, 3, 1, 1, 2, 2, 2, 2, 3, 2, 2, 3, 1, 1, 3, 1, 2, 1, 2, 2, 3, 3, 2, 1, 2, 3, 3, 3, 2, 2]\n",
            "\n",
            "\n",
            "Waktu eksekusi: 0.0002009868621826172 detik\n",
            "Hidden Neuron:  6\n",
            "Output: [3, 2, 1, 3, 1, 3, 3, 3, 1, 3, 2, 3, 2, 1, 2, 3, 1, 1, 2, 2, 2, 2, 3, 2, 2, 3, 1, 1, 3, 1, 2, 1, 2, 2, 3, 3, 2, 1, 2, 3, 3, 3, 2, 2]\n",
            "True : [3, 2, 1, 3, 1, 3, 3, 3, 1, 3, 2, 3, 2, 1, 2, 3, 1, 1, 2, 2, 2, 2, 3, 2, 2, 3, 1, 1, 3, 1, 2, 1, 2, 2, 3, 3, 2, 1, 2, 3, 3, 3, 2, 2]\n",
            "\n",
            "\n",
            "Waktu eksekusi: 0.006015300750732422 detik\n",
            "Hidden Neuron:  7\n",
            "Output: [3, 2, 1, 3, 1, 3, 3, 3, 1, 3, 2, 3, 2, 1, 2, 3, 1, 1, 2, 2, 2, 2, 3, 2, 2, 3, 1, 1, 3, 1, 2, 1, 2, 2, 3, 3, 2, 1, 2, 3, 3, 3, 2, 2]\n",
            "True : [3, 2, 1, 3, 1, 3, 3, 3, 1, 3, 2, 3, 2, 1, 2, 3, 1, 1, 2, 2, 2, 2, 3, 2, 2, 3, 1, 1, 3, 1, 2, 1, 2, 2, 3, 3, 2, 1, 2, 3, 3, 3, 2, 2]\n",
            "\n",
            "\n",
            "Waktu eksekusi: 0.00023865699768066406 detik\n",
            "Hidden Neuron:  8\n",
            "Output: [3, 2, 1, 3, 1, 3, 3, 3, 1, 3, 2, 3, 2, 1, 2, 3, 1, 1, 2, 2, 2, 2, 3, 2, 2, 3, 1, 1, 3, 1, 2, 1, 2, 2, 3, 3, 2, 1, 2, 3, 3, 3, 2, 2]\n",
            "True : [3, 2, 1, 3, 1, 3, 3, 3, 1, 3, 2, 3, 2, 1, 2, 3, 1, 1, 2, 2, 2, 2, 3, 2, 2, 3, 1, 1, 3, 1, 2, 1, 2, 2, 3, 3, 2, 1, 2, 3, 3, 3, 2, 2]\n",
            "\n",
            "\n",
            "Waktu eksekusi: 0.000217437744140625 detik\n",
            "Hidden Neuron:  9\n",
            "Output: [3, 2, 1, 3, 1, 3, 3, 3, 1, 3, 2, 3, 2, 1, 2, 3, 1, 1, 2, 2, 2, 2, 3, 2, 2, 3, 1, 1, 3, 1, 2, 1, 2, 2, 3, 3, 2, 1, 2, 3, 3, 3, 2, 2]\n",
            "True : [3, 2, 1, 3, 1, 3, 3, 3, 1, 3, 2, 3, 2, 1, 2, 3, 1, 1, 2, 2, 2, 2, 3, 2, 2, 3, 1, 1, 3, 1, 2, 1, 2, 2, 3, 3, 2, 1, 2, 3, 3, 3, 2, 2]\n",
            "\n",
            "\n",
            "Waktu eksekusi: 0.0002522468566894531 detik\n",
            "Hidden Neuron:  10\n",
            "Output: [3, 2, 1, 3, 1, 3, 3, 3, 1, 3, 2, 3, 2, 1, 2, 3, 1, 1, 2, 2, 2, 2, 3, 2, 2, 3, 1, 1, 3, 1, 2, 1, 2, 2, 3, 3, 2, 1, 2, 3, 3, 3, 2, 2]\n",
            "True : [3, 2, 1, 3, 1, 3, 3, 3, 1, 3, 2, 3, 2, 1, 2, 3, 1, 1, 2, 2, 2, 2, 3, 2, 2, 3, 1, 1, 3, 1, 2, 1, 2, 2, 3, 3, 2, 1, 2, 3, 3, 3, 2, 2]\n",
            "\n",
            "\n",
            "Waktu eksekusi: 0.00025010108947753906 detik\n",
            "Hidden Neuron:  11\n",
            "Output: [3, 2, 1, 3, 1, 3, 3, 3, 1, 3, 2, 3, 2, 1, 2, 3, 1, 1, 2, 2, 2, 2, 3, 2, 2, 3, 1, 1, 3, 1, 2, 1, 2, 2, 3, 3, 2, 1, 2, 3, 3, 3, 2, 2]\n",
            "True : [3, 2, 1, 3, 1, 3, 3, 3, 1, 3, 2, 3, 2, 1, 2, 3, 1, 1, 2, 2, 2, 2, 3, 2, 2, 3, 1, 1, 3, 1, 2, 1, 2, 2, 3, 3, 2, 1, 2, 3, 3, 3, 2, 2]\n",
            "\n",
            "\n",
            "Waktu eksekusi: 0.0002872943878173828 detik\n",
            "Hidden Neuron:  12\n",
            "Output: [3, 2, 1, 3, 1, 3, 3, 3, 1, 3, 2, 3, 2, 1, 2, 3, 1, 1, 2, 2, 2, 2, 3, 2, 2, 3, 1, 1, 3, 1, 2, 1, 2, 2, 3, 3, 2, 1, 2, 3, 3, 3, 2, 2]\n",
            "True : [3, 2, 1, 3, 1, 3, 3, 3, 1, 3, 2, 3, 2, 1, 2, 3, 1, 1, 2, 2, 2, 2, 3, 2, 2, 3, 1, 1, 3, 1, 2, 1, 2, 2, 3, 3, 2, 1, 2, 3, 3, 3, 2, 2]\n",
            "\n",
            "\n",
            "Waktu eksekusi: 0.00023436546325683594 detik\n",
            "Hidden Neuron:  13\n",
            "Output: [3, 2, 1, 3, 1, 3, 3, 3, 1, 3, 2, 3, 2, 1, 2, 3, 1, 1, 2, 2, 2, 2, 3, 2, 2, 3, 1, 1, 3, 1, 2, 1, 2, 2, 3, 3, 2, 1, 2, 3, 3, 3, 2, 2]\n",
            "True : [3, 2, 1, 3, 1, 3, 3, 3, 1, 3, 2, 3, 2, 1, 2, 3, 1, 1, 2, 2, 2, 2, 3, 2, 2, 3, 1, 1, 3, 1, 2, 1, 2, 2, 3, 3, 2, 1, 2, 3, 3, 3, 2, 2]\n",
            "\n",
            "\n",
            "Waktu eksekusi: 0.00029587745666503906 detik\n",
            "Hidden Neuron:  14\n",
            "Output: [3, 2, 1, 3, 1, 3, 3, 3, 1, 3, 2, 3, 2, 1, 2, 3, 1, 1, 2, 2, 2, 2, 3, 2, 2, 3, 1, 1, 3, 1, 2, 1, 2, 2, 3, 3, 2, 1, 2, 3, 3, 3, 2, 2]\n",
            "True : [3, 2, 1, 3, 1, 3, 3, 3, 1, 3, 2, 3, 2, 1, 2, 3, 1, 1, 2, 2, 2, 2, 3, 2, 2, 3, 1, 1, 3, 1, 2, 1, 2, 2, 3, 3, 2, 1, 2, 3, 3, 3, 2, 2]\n",
            "\n",
            "\n"
          ]
        }
      ]
    },
    {
      "cell_type": "code",
      "source": [
        "acc"
      ],
      "metadata": {
        "colab": {
          "base_uri": "https://localhost:8080/"
        },
        "id": "wUitRx4h5_1H",
        "outputId": "289ac434-6808-4262-d791-050b9e70d58f"
      },
      "execution_count": null,
      "outputs": [
        {
          "output_type": "execute_result",
          "data": {
            "text/plain": [
              "[0.38636363636363635,\n",
              " 0.9545454545454546,\n",
              " 0.9090909090909091,\n",
              " 0.7727272727272727,\n",
              " 0.8863636363636364,\n",
              " 1.0,\n",
              " 1.0,\n",
              " 1.0,\n",
              " 1.0,\n",
              " 1.0,\n",
              " 1.0,\n",
              " 1.0,\n",
              " 1.0,\n",
              " 1.0]"
            ]
          },
          "metadata": {},
          "execution_count": 30
        }
      ]
    },
    {
      "cell_type": "code",
      "source": [
        "rmse_score"
      ],
      "metadata": {
        "colab": {
          "base_uri": "https://localhost:8080/"
        },
        "id": "3RZyeOIi6CqM",
        "outputId": "292f8280-3068-46ad-ff91-7e5bedbd1995"
      },
      "execution_count": null,
      "outputs": [
        {
          "output_type": "execute_result",
          "data": {
            "text/plain": [
              "[0.7833494518006403,\n",
              " 0.21320071635561044,\n",
              " 0.30151134457776363,\n",
              " 0.4767312946227962,\n",
              " 0.337099931231621,\n",
              " 0.0,\n",
              " 0.0,\n",
              " 0.0,\n",
              " 0.0,\n",
              " 0.0,\n",
              " 0.0,\n",
              " 0.0,\n",
              " 0.0,\n",
              " 0.0]"
            ]
          },
          "metadata": {},
          "execution_count": 32
        }
      ]
    },
    {
      "cell_type": "code",
      "source": [
        "plt.plot(acc)\n",
        "plt.xlabel('Jumlah hidden neuron')\n",
        "plt.ylabel('Akurasi')\n",
        "plt.show()"
      ],
      "metadata": {
        "colab": {
          "base_uri": "https://localhost:8080/",
          "height": 279
        },
        "id": "jQP9qXbUUJmX",
        "outputId": "9054e51d-41b2-4119-96b5-9dc0b945f7c2"
      },
      "execution_count": null,
      "outputs": [
        {
          "output_type": "display_data",
          "data": {
            "text/plain": [
              "<Figure size 432x288 with 1 Axes>"
            ],
            "image/png": "[encoded data removed]"
          },
          "metadata": {
            "needs_background": "light"
          }
        }
      ]
    },
    {
      "cell_type": "code",
      "source": [
        "plt.plot(rmse_score)\n",
        "plt.xlabel('Jumlah hidden neuron')\n",
        "plt.ylabel('RMSE')\n",
        "plt.show()"
      ],
      "metadata": {
        "colab": {
          "base_uri": "https://localhost:8080/",
          "height": 279
        },
        "id": "xLJocl6_PBJT",
        "outputId": "27ef3d02-a945-4092-da22-f5126797deac"
      },
      "execution_count": null,
      "outputs": [
        {
          "output_type": "display_data",
          "data": {
            "text/plain": [
              "<Figure size 432x288 with 1 Axes>"
            ],
            "image/png": "[encoded data removed]"
          },
          "metadata": {
            "needs_background": "light"
          }
        }
      ]
    }
  ]
}